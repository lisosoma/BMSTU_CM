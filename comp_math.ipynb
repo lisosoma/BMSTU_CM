{
 "cells": [
  {
   "cell_type": "markdown",
   "id": "0c611746",
   "metadata": {},
   "source": [
    "# Lab 1"
   ]
  },
  {
   "cell_type": "code",
   "execution_count": 1,
   "id": "799fb981",
   "metadata": {},
   "outputs": [],
   "source": [
    "def qubic_spline_coeff(x_nodes, y_nodes):\n",
    "    n = len(x_nodes)\n",
    "    a = list(y_nodes)\n",
    "    h = [x_nodes[i + 1] - x_nodes[i] for i in range(n - 1)] \n",
    "    \n",
    "    alph = [3 / h[i] * (a[i + 1] - a[i]) \n",
    "         - 3 / h[i - 1] * (a[i] - a[i - 1]) for i in range(1, n - 1)]\n",
    "    \n",
    "    l = [1 for i in range(n)]\n",
    "    mu = [0 for i in range(n - 1)]\n",
    "    z = [0 for i in range(n)]\n",
    "    \n",
    "    for i in range(1, n - 1):\n",
    "        l[i] = 2 * (x_nodes[i + 1] - x_nodes[i - 1]) - h[i - 1] * mu[i - 1]\n",
    "        mu[i] = h[i] / l[i] \n",
    "        z[i] = (alph[i - 1] - h[i - 1] * z[i - 1]) / l[i]\n",
    "        \n",
    "    c = [0 for i in range(n)]\n",
    "    b = [0 for i in range(n - 1)]\n",
    "    d = [0 for i in range(n - 1)]\n",
    "    \n",
    "    for j in range(n - 1, 0, -1):\n",
    "        c[j - 1] = z[j - 1] - mu[j - 1] * c[j]\n",
    "        b[j - 1] = ((a[j] - a[j - 1]) / h[j - 1] \n",
    "                    - h[j - 1] * (c[j] + 2 * c[j - 1]) / 3)\n",
    "        d[j - 1] = (c[j] - c[j - 1]) / 3 / h[j - 1]\n",
    "        \n",
    "    c.pop(-1)\n",
    "    a.pop(-1)\n",
    "    \n",
    "    matr = np.c_[a, b, c, d]\n",
    "    \n",
    "    return matr"
   ]
  },
  {
   "cell_type": "code",
   "execution_count": 2,
   "id": "5f71f6ed",
   "metadata": {},
   "outputs": [],
   "source": [
    "def qubic_spline(x, x_nodes, qs_coeff):\n",
    "    \n",
    "    for i in range(len(x_nodes) - 1):\n",
    "        if x <= x_nodes[i + 1]:\n",
    "            break\n",
    "            \n",
    "    return (qs_coeff[i][0] + qs_coeff[i][1] * (x - x_nodes[i]) \n",
    "            + qs_coeff[i][2] * (x - x_nodes[i]) ** 2 \n",
    "            + qs_coeff[i][3] * (x - x_nodes[i]) ** 3)"
   ]
  },
  {
   "cell_type": "code",
   "execution_count": 3,
   "id": "19427ed6",
   "metadata": {},
   "outputs": [],
   "source": [
    "def d_qubic_spline(x, x_nodes, qs_coeff):\n",
    "    \n",
    "    for i in range(len(x_nodes) - 1):\n",
    "        if x <= x_nodes[i+1]:\n",
    "            return (qs_coeff[i][1] + 2 * qs_coeff[i][2] * (x - x_nodes[i]) \n",
    "                    + 3 * qs_coeff[i][3] * (x - x_nodes[i]) ** 2)\n",
    "            \n",
    "    return None"
   ]
  },
  {
   "cell_type": "code",
   "execution_count": 4,
   "id": "03a9441f",
   "metadata": {},
   "outputs": [],
   "source": [
    "def l_i(i, x, x_nodes):\n",
    "    n = len(x_nodes)\n",
    "    p = 1\n",
    "    \n",
    "    for j in range(n):\n",
    "        if j != i:\n",
    "            p *= (x - x_nodes[j]) / (x_nodes[i] - x_nodes[j])\n",
    "            \n",
    "    return p"
   ]
  },
  {
   "cell_type": "code",
   "execution_count": 5,
   "id": "249cdcb1",
   "metadata": {},
   "outputs": [],
   "source": [
    "def L(x, x_nodes, y_nodes):\n",
    "    n = len(x_nodes)\n",
    "    s = 0\n",
    "    \n",
    "    for i in range(n):\n",
    "        s += y_nodes[i] * l_i(i, x, x_nodes)\n",
    "    \n",
    "    return s"
   ]
  },
  {
   "cell_type": "code",
   "execution_count": 6,
   "id": "c855ae04",
   "metadata": {},
   "outputs": [],
   "source": [
    "def conf_band(y, n):\n",
    "    y_ = y.transpose()\n",
    "    for i in range(n + 1):\n",
    "        y_[i].sort()\n",
    "        \n",
    "    h_l = [(y_[i][48] + y_[i][49]) / 2 for i in range(n + 1)]\n",
    "    h_m = [sum(y_[i]) / 1000 for i in range(n + 1)]\n",
    "    h_u = [(y_[i][948] + y_[i][949]) / 2 for i in range(n + 1)]\n",
    "    \n",
    "    return [h_l, h_m, h_u]"
   ]
  },
  {
   "cell_type": "markdown",
   "id": "87c9708e",
   "metadata": {},
   "source": [
    "# Lab 3"
   ]
  },
  {
   "cell_type": "code",
   "execution_count": 7,
   "id": "794afbf9",
   "metadata": {},
   "outputs": [],
   "source": [
    "def euler(x_0, t_n, f, h):\n",
    "    n = len(f) - 1\n",
    "    w = [x_0]\n",
    "    \n",
    "    for t in np.arange(h, t_n + h, h):\n",
    "        w.append([])\n",
    "        for j in range(n):\n",
    "            w[-1].append(w[-2][j] + h * f[j](t, w[-2]))\n",
    "        \n",
    "        w[-1] = f[-1](w[-1])\n",
    "        \n",
    "    return w"
   ]
  },
  {
   "cell_type": "code",
   "execution_count": 8,
   "id": "b855c917",
   "metadata": {},
   "outputs": [],
   "source": [
    "def implicit_euler(x_0, t_n, f, h):\n",
    "    n = len(f) - 1\n",
    "    w = [x_0]\n",
    "\n",
    "    def sys_eq(eq):\n",
    "        x = eq\n",
    "        w_ = [x[i] - w[-1][i] - h * f[0](t, x) for i in range(n)]\n",
    "        return w_\n",
    "    \n",
    "    for t in np.arange(h, t_n + h, h):\n",
    "        x_0 = root(sys_eq, w[-1], method = 'df-sane').x\n",
    "        w.append([])  \n",
    "        for i in range(n):      \n",
    "            w[-1].append(w[-2][i] + h * f[i](t, x_0))\n",
    "            \n",
    "        w[-1] = f[-1](w[-1])\n",
    "         \n",
    "    return w"
   ]
  },
  {
   "cell_type": "code",
   "execution_count": 9,
   "id": "13365884",
   "metadata": {},
   "outputs": [],
   "source": [
    "def runge_kutta(x_0, t_n, f, h):\n",
    "    n = len(f) - 1\n",
    "    w = [x_0]\n",
    "    \n",
    "    for t in np.arange(h, t_n + h, h):\n",
    "        k1 = np.array([h * f[i](t, w[-1]) for i in range(n)])\n",
    "        k2 = np.array([h * f[i](t + h / 2, [x + y / 2 for x, y in zip(w[-1], k1)])\n",
    "                       for i in range(n)])\n",
    "        k3 = np.array([h * f[i](t + h / 2, [x + y / 2 for x, y in zip(w[-1], k2)]) \n",
    "                       for i in range(n)])\n",
    "        k4 = np.array([h * f[i](t + h, [x + y for x, y in zip(w[-1], k3)]) \n",
    "                       for i in range(n)])\n",
    "        w.append(list([x + (p + 2*y + 2*z + q) / 6 \n",
    "                  for x, p, y, z, q in zip(w[-1], k1, k2, k3, k4)]))\n",
    "        \n",
    "        w[-1] = f[-1](w[-1])\n",
    "    \n",
    "    return w"
   ]
  },
  {
   "cell_type": "markdown",
   "id": "6936c267",
   "metadata": {},
   "source": [
    "# Lab 4"
   ]
  },
  {
   "cell_type": "code",
   "execution_count": 10,
   "id": "8e85ce45",
   "metadata": {},
   "outputs": [],
   "source": [
    "def pca(A):\n",
    "    m = len(A)\n",
    "    K = A.T @ A \n",
    "    \n",
    "    w, v = np.linalg.eig(K)\n",
    "    \n",
    "    idx = w.argsort()[::-1]   \n",
    "    w = w[idx]\n",
    "    v = v[:,idx]\n",
    "    \n",
    "    sigma = sqrt(w) / sqrt(m - 1)\n",
    "    return(v.T, sigma)"
   ]
  },
  {
   "cell_type": "code",
   "execution_count": 11,
   "id": "4ae093c6",
   "metadata": {},
   "outputs": [],
   "source": [
    "def laplac(G):\n",
    "    D = []\n",
    "    for g in G:\n",
    "        D.append(sum(g))\n",
    "    return np.diag(D, 0) - G"
   ]
  },
  {
   "cell_type": "code",
   "execution_count": 12,
   "id": "2e0affea",
   "metadata": {},
   "outputs": [],
   "source": [
    "def spetrum(G):\n",
    "    eigenValues, eigenVectors = np.linalg.eig(G)\n",
    "    \n",
    "    idx = eigenValues.argsort()[::-1]   \n",
    "    eigenValues = eigenValues[idx]\n",
    "    eigenVectors = eigenVectors[:,idx]\n",
    "    \n",
    "    return(eigenVectors.T, eigenValues)"
   ]
  }
 ],
 "metadata": {
  "kernelspec": {
   "display_name": "Python 3 (ipykernel)",
   "language": "python",
   "name": "python3"
  },
  "language_info": {
   "codemirror_mode": {
    "name": "ipython",
    "version": 3
   },
   "file_extension": ".py",
   "mimetype": "text/x-python",
   "name": "python",
   "nbconvert_exporter": "python",
   "pygments_lexer": "ipython3",
   "version": "3.9.7"
  }
 },
 "nbformat": 4,
 "nbformat_minor": 5
}
